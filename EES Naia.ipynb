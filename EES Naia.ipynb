{
  "nbformat": 4,
  "nbformat_minor": 0,
  "metadata": {
    "colab": {
      "provenance": []
    },
    "kernelspec": {
      "name": "python3",
      "display_name": "Python 3"
    },
    "language_info": {
      "name": "python"
    }
  },
  "cells": [
    {
      "cell_type": "code",
      "source": [
        "# Import pandas untuk manipulasi data\n",
        "import pandas as pd\n",
        "# Import train_test_split dari sklearn.model_selection untuk membagi data menjadi data latih dan data uji\n",
        "from sklearn.model_selection import train_test_split\n",
        "# Import StandardScaler dan LabelEncoder dari sklearn.preprocessing untuk preprocessing data\n",
        "from sklearn.preprocessing import StandardScaler, LabelEncoder"
      ],
      "metadata": {
        "id": "IkjetVsm5lDW"
      },
      "execution_count": 230,
      "outputs": []
    },
    {
      "cell_type": "code",
      "source": [
        "# Membaca data dari file excel 'Data EES.xlsx' dan menyimpannya dalam variabel 'data'\n",
        "data = pd.read_excel('Data EES.xlsx')"
      ],
      "metadata": {
        "id": "EgOWCAEF5r_o"
      },
      "execution_count": 231,
      "outputs": []
    },
    {
      "cell_type": "code",
      "source": [
        "# Menampilkan 5 baris pertama dari data\n",
        "print(data.head())"
      ],
      "metadata": {
        "colab": {
          "base_uri": "https://localhost:8080/"
        },
        "id": "WjF83qZbUeuE",
        "outputId": "8ce66371-feb2-4d2d-f4bc-3cccb0b2ef84"
      },
      "execution_count": 232,
      "outputs": [
        {
          "output_type": "stream",
          "name": "stdout",
          "text": [
            "   No  Employee ID               Name  \\\n",
            "0   1    208061001  Yandri Firmansyah   \n",
            "1   2    209011004     Kamal Sopianto   \n",
            "2   3    209031007    Noviadi Widjaya   \n",
            "3   4    209091010        Andryansyah   \n",
            "4   5    209101013            Solihin   \n",
            "\n",
            "                                  Job Grade Title  \\\n",
            "0                                    Section Head   \n",
            "1                                           Staff   \n",
            "2  Advisor / Principal Engineer / Department Head   \n",
            "3                                    Section Head   \n",
            "4                                           Staff   \n",
            "\n",
            "                                           Job Title  \\\n",
            "0                          Station Duty Section Head   \n",
            "1  Railway Electricity Technology Maintenance Reg...   \n",
            "2                     Finance and Accounting Advisor   \n",
            "3                          Station Duty Section Head   \n",
            "4          Line Rolling Stock Maintenance Technician   \n",
            "\n",
            "                                    Directorate  \\\n",
            "0         Operation and Maintenance Directorate   \n",
            "1         Operation and Maintenance Directorate   \n",
            "2  Finance and Corporate Management Directorate   \n",
            "3         Operation and Maintenance Directorate   \n",
            "4         Operation and Maintenance Directorate   \n",
            "\n",
            "                                            Division  \\\n",
            "0                       Customer Engagement Division   \n",
            "1        Railway Infrastructure Maintenance Division   \n",
            "2                    Finance and Accounting Division   \n",
            "3                       Customer Engagement Division   \n",
            "4  Rolling Stock Maintenance and Technology Cente...   \n",
            "\n",
            "                                          Department Location Type  \\\n",
            "0                        Station Master 3 Department            WS   \n",
            "1  Railway Electricity Technology Maintenance Dep...            WS   \n",
            "2                                                  0            HO   \n",
            "3                        Station Master 2 Department            WS   \n",
            "4               Rolling Stock Maintenance Department            WS   \n",
            "\n",
            "  Work Schedule  ... 64 65 66 67  68 69 70 71 72  73  \n",
            "0         Shift  ...  5  5  5  5   5  5  5  5  5   5  \n",
            "1         Shift  ...  4  4  4  4   4  4  4  4  4   4  \n",
            "2   Office Hour  ...  5  5  5  5   5  5  5  5  5   5  \n",
            "3         Shift  ...  5  4  4  4   4  5  4  4  4   4  \n",
            "4         Shift  ...  4  4  4  4   4  4  4  4  4   4  \n",
            "\n",
            "[5 rows x 95 columns]\n"
          ]
        }
      ]
    },
    {
      "cell_type": "code",
      "source": [
        "# Menampilkan nama-nama kolom dalam data\n",
        "print(data.columns)"
      ],
      "metadata": {
        "colab": {
          "base_uri": "https://localhost:8080/"
        },
        "id": "cX-5WNDXBAdE",
        "outputId": "6bf9a051-1bb2-42bb-c7ef-ff04beeb7f1b"
      },
      "execution_count": 234,
      "outputs": [
        {
          "output_type": "stream",
          "name": "stdout",
          "text": [
            "Index(['No', 'Employee ID', 'Name', 'Job Grade Title', 'Job Title',\n",
            "       'Directorate', 'Division', 'Department', 'Location Type',\n",
            "       'Work Schedule', 'Work Location', 'Date of Birth', 'Date of EOY',\n",
            "       'Detailed Age', 'Age Group', 'Marital Status', 'Gender', 'Join Date',\n",
            "       'Length of Employment', 'Length of Employment (2)', 'Employee \\nStatus',\n",
            "       'Latest Degree', '1', '2', '3', '4', '5', '6', '7', '8', '9', '10',\n",
            "       '11', '12', '13', '14', '15', '16', '17', '18', '19', '20', '21', '22',\n",
            "       '23', '24', '25', '26', '27', '28', '29', '30', '31', '32', '33', '34',\n",
            "       '35', '36', '37', '38', '39', '40', '41', '42', '43', '44', '45', '46',\n",
            "       '47', '48', '49', '50', '51', '52', '53', '54', '55', '56', '57', '58',\n",
            "       '59', '60', '61', '62', '63', '64', '65', '66', '67', '68', '69', '70',\n",
            "       '71', '72', '73'],\n",
            "      dtype='object')\n"
          ]
        }
      ]
    },
    {
      "cell_type": "code",
      "source": [
        "# Mengubah kolom-kolom bertipe objek menjadi tipe string\n",
        "for column in data.select_dtypes(include=['object']).columns:\n",
        "    data[column] = data[column].astype(str)"
      ],
      "metadata": {
        "id": "yprHcVIC6dV-"
      },
      "execution_count": 235,
      "outputs": []
    },
    {
      "cell_type": "code",
      "source": [
        "# Inisialisasi dictionary 'label_encoders' untuk menyimpan objek LabelEncoder\n",
        "label_encoders = {}\n",
        "# Mengubah nilai-nilai pada kolom-kolom bertipe objek menjadi nilai numerik menggunakan LabelEncoder\n",
        "for column in data.select_dtypes(include=['object']).columns:\n",
        "    label_encoders[column] = LabelEncoder()\n",
        "    data[column] = label_encoders[column].fit_transform(data[column])"
      ],
      "metadata": {
        "id": "Spkl_Q9MVAhN"
      },
      "execution_count": 236,
      "outputs": []
    },
    {
      "cell_type": "code",
      "source": [
        "# Menampilkan tipe data dari setiap kolom\n",
        "print(data.dtypes)"
      ],
      "metadata": {
        "colab": {
          "base_uri": "https://localhost:8080/"
        },
        "id": "35bajkF0YuVO",
        "outputId": "64131a41-57e7-42ae-f9d8-9bb2a9002ad8"
      },
      "execution_count": 237,
      "outputs": [
        {
          "output_type": "stream",
          "name": "stdout",
          "text": [
            "No                 int64\n",
            "Employee ID        int64\n",
            "Name               int64\n",
            "Job Grade Title    int64\n",
            "Job Title          int64\n",
            "                   ...  \n",
            "69                 int64\n",
            "70                 int64\n",
            "71                 int64\n",
            "72                 int64\n",
            "73                 int64\n",
            "Length: 95, dtype: object\n"
          ]
        }
      ]
    },
    {
      "cell_type": "markdown",
      "source": [
        "# **KLASIFIKASI ~  Prediksi Status Karyawan**"
      ],
      "metadata": {
        "id": "_5-ypCBJZLU2"
      }
    },
    {
      "cell_type": "code",
      "source": [
        "from sklearn.ensemble import RandomForestClassifier # untuk klasifikasi menggunakan algoritma Random Forest\n",
        "from sklearn.model_selection import train_test_split # untuk membagi data menjadi set data latih dan uji\n",
        "from sklearn.preprocessing import StandardScaler # untuk standarisasi fitur numerik\n",
        "from sklearn.metrics import classification_report, confusion_matrix, accuracy_score # untuk evaluasi model klasifikasi\n",
        "import matplotlib.pyplot as plt # Impor matplotlib.pyplot sebagai plt untuk plotting\n",
        "import seaborn as sns # Impor seaborn sebagai sns untuk visualisasi"
      ],
      "metadata": {
        "id": "NElyf9IWZSPP"
      },
      "execution_count": 238,
      "outputs": []
    },
    {
      "cell_type": "code",
      "source": [
        "X_class = data[['Age Group', 'Gender', 'Length of Employment (2)', 'Work Location', 'Latest Degree']] # Pilih fitur untuk klasifikasi\n",
        "y_class = data['Employee \\nStatus'] # Pilih variabel target untuk klasifikasi"
      ],
      "metadata": {
        "id": "ZHHy-cY9Zdua"
      },
      "execution_count": 239,
      "outputs": []
    },
    {
      "cell_type": "code",
      "source": [
        "X_train_class, X_test_class, y_train_class, y_test_class = train_test_split(X_class, y_class, test_size=0.3, random_state=42) # Bagi data menjadi set data latih dan uji (70% latih, 30% uji)"
      ],
      "metadata": {
        "id": "T6K5vFkjeZuM"
      },
      "execution_count": 240,
      "outputs": []
    },
    {
      "cell_type": "code",
      "source": [
        "scaler_class = StandardScaler() # Inisialisasi StandardScaler untuk standarisasi fitur numerik\n",
        "# Standarisasi fitur numerik dalam set data latih dan uji\n",
        "X_train_class = scaler_class.fit_transform(X_train_class)\n",
        "X_test_class = scaler_class.transform(X_test_class)"
      ],
      "metadata": {
        "id": "WUVzT6SxelTu"
      },
      "execution_count": 241,
      "outputs": []
    },
    {
      "cell_type": "code",
      "source": [
        "# Inisialisasi RandomForestClassifier dengan suatu nilai state acak untuk reproduktibilitas\n",
        "model_class = RandomForestClassifier(random_state=42)\n",
        "model_class.fit(X_train_class, y_train_class) # Latih model RandomForestClassifier"
      ],
      "metadata": {
        "colab": {
          "base_uri": "https://localhost:8080/",
          "height": 75
        },
        "id": "hFncR8HieoAh",
        "outputId": "3b741d00-14e9-4f14-a35f-2f225f600dcf"
      },
      "execution_count": 242,
      "outputs": [
        {
          "output_type": "execute_result",
          "data": {
            "text/plain": [
              "RandomForestClassifier(random_state=42)"
            ],
            "text/html": [
              "<style>#sk-container-id-14 {color: black;background-color: white;}#sk-container-id-14 pre{padding: 0;}#sk-container-id-14 div.sk-toggleable {background-color: white;}#sk-container-id-14 label.sk-toggleable__label {cursor: pointer;display: block;width: 100%;margin-bottom: 0;padding: 0.3em;box-sizing: border-box;text-align: center;}#sk-container-id-14 label.sk-toggleable__label-arrow:before {content: \"▸\";float: left;margin-right: 0.25em;color: #696969;}#sk-container-id-14 label.sk-toggleable__label-arrow:hover:before {color: black;}#sk-container-id-14 div.sk-estimator:hover label.sk-toggleable__label-arrow:before {color: black;}#sk-container-id-14 div.sk-toggleable__content {max-height: 0;max-width: 0;overflow: hidden;text-align: left;background-color: #f0f8ff;}#sk-container-id-14 div.sk-toggleable__content pre {margin: 0.2em;color: black;border-radius: 0.25em;background-color: #f0f8ff;}#sk-container-id-14 input.sk-toggleable__control:checked~div.sk-toggleable__content {max-height: 200px;max-width: 100%;overflow: auto;}#sk-container-id-14 input.sk-toggleable__control:checked~label.sk-toggleable__label-arrow:before {content: \"▾\";}#sk-container-id-14 div.sk-estimator input.sk-toggleable__control:checked~label.sk-toggleable__label {background-color: #d4ebff;}#sk-container-id-14 div.sk-label input.sk-toggleable__control:checked~label.sk-toggleable__label {background-color: #d4ebff;}#sk-container-id-14 input.sk-hidden--visually {border: 0;clip: rect(1px 1px 1px 1px);clip: rect(1px, 1px, 1px, 1px);height: 1px;margin: -1px;overflow: hidden;padding: 0;position: absolute;width: 1px;}#sk-container-id-14 div.sk-estimator {font-family: monospace;background-color: #f0f8ff;border: 1px dotted black;border-radius: 0.25em;box-sizing: border-box;margin-bottom: 0.5em;}#sk-container-id-14 div.sk-estimator:hover {background-color: #d4ebff;}#sk-container-id-14 div.sk-parallel-item::after {content: \"\";width: 100%;border-bottom: 1px solid gray;flex-grow: 1;}#sk-container-id-14 div.sk-label:hover label.sk-toggleable__label {background-color: #d4ebff;}#sk-container-id-14 div.sk-serial::before {content: \"\";position: absolute;border-left: 1px solid gray;box-sizing: border-box;top: 0;bottom: 0;left: 50%;z-index: 0;}#sk-container-id-14 div.sk-serial {display: flex;flex-direction: column;align-items: center;background-color: white;padding-right: 0.2em;padding-left: 0.2em;position: relative;}#sk-container-id-14 div.sk-item {position: relative;z-index: 1;}#sk-container-id-14 div.sk-parallel {display: flex;align-items: stretch;justify-content: center;background-color: white;position: relative;}#sk-container-id-14 div.sk-item::before, #sk-container-id-14 div.sk-parallel-item::before {content: \"\";position: absolute;border-left: 1px solid gray;box-sizing: border-box;top: 0;bottom: 0;left: 50%;z-index: -1;}#sk-container-id-14 div.sk-parallel-item {display: flex;flex-direction: column;z-index: 1;position: relative;background-color: white;}#sk-container-id-14 div.sk-parallel-item:first-child::after {align-self: flex-end;width: 50%;}#sk-container-id-14 div.sk-parallel-item:last-child::after {align-self: flex-start;width: 50%;}#sk-container-id-14 div.sk-parallel-item:only-child::after {width: 0;}#sk-container-id-14 div.sk-dashed-wrapped {border: 1px dashed gray;margin: 0 0.4em 0.5em 0.4em;box-sizing: border-box;padding-bottom: 0.4em;background-color: white;}#sk-container-id-14 div.sk-label label {font-family: monospace;font-weight: bold;display: inline-block;line-height: 1.2em;}#sk-container-id-14 div.sk-label-container {text-align: center;}#sk-container-id-14 div.sk-container {/* jupyter's `normalize.less` sets `[hidden] { display: none; }` but bootstrap.min.css set `[hidden] { display: none !important; }` so we also need the `!important` here to be able to override the default hidden behavior on the sphinx rendered scikit-learn.org. See: https://github.com/scikit-learn/scikit-learn/issues/21755 */display: inline-block !important;position: relative;}#sk-container-id-14 div.sk-text-repr-fallback {display: none;}</style><div id=\"sk-container-id-14\" class=\"sk-top-container\"><div class=\"sk-text-repr-fallback\"><pre>RandomForestClassifier(random_state=42)</pre><b>In a Jupyter environment, please rerun this cell to show the HTML representation or trust the notebook. <br />On GitHub, the HTML representation is unable to render, please try loading this page with nbviewer.org.</b></div><div class=\"sk-container\" hidden><div class=\"sk-item\"><div class=\"sk-estimator sk-toggleable\"><input class=\"sk-toggleable__control sk-hidden--visually\" id=\"sk-estimator-id-14\" type=\"checkbox\" checked><label for=\"sk-estimator-id-14\" class=\"sk-toggleable__label sk-toggleable__label-arrow\">RandomForestClassifier</label><div class=\"sk-toggleable__content\"><pre>RandomForestClassifier(random_state=42)</pre></div></div></div></div></div>"
            ]
          },
          "metadata": {},
          "execution_count": 242
        }
      ]
    },
    {
      "cell_type": "code",
      "source": [
        "# Lakukan prediksi pada set data uji\n",
        "y_pred_class = model_class.predict(X_test_class)"
      ],
      "metadata": {
        "id": "IDYuNyvSfMV3"
      },
      "execution_count": 243,
      "outputs": []
    },
    {
      "cell_type": "code",
      "source": [
        "print(\"Confusion Matrix:\")\n",
        "print(confusion_matrix(y_test_class, y_pred_class))\n",
        "print(\"\\nClassification Report:\")\n",
        "print(classification_report(y_test_class, y_pred_class))\n",
        "print(\"\\nAccuracy Score:\", accuracy_score(y_test_class, y_pred_class))"
      ],
      "metadata": {
        "colab": {
          "base_uri": "https://localhost:8080/"
        },
        "id": "RJhrzpQ7fPXY",
        "outputId": "fe78244a-7cc9-4306-c753-43518df6a517"
      },
      "execution_count": 244,
      "outputs": [
        {
          "output_type": "stream",
          "name": "stdout",
          "text": [
            "Confusion Matrix:\n",
            "[[  1   0]\n",
            " [  0 212]]\n",
            "\n",
            "Classification Report:\n",
            "              precision    recall  f1-score   support\n",
            "\n",
            "           0       1.00      1.00      1.00         1\n",
            "           1       1.00      1.00      1.00       212\n",
            "\n",
            "    accuracy                           1.00       213\n",
            "   macro avg       1.00      1.00      1.00       213\n",
            "weighted avg       1.00      1.00      1.00       213\n",
            "\n",
            "\n",
            "Accuracy Score: 1.0\n"
          ]
        }
      ]
    },
    {
      "cell_type": "code",
      "source": [
        "plt.figure(figsize=(10,7))\n",
        "sns.heatmap(confusion_matrix(y_test_class, y_pred_class), annot=True, fmt='d', cmap='Blues')\n",
        "plt.xlabel('Predicted')\n",
        "plt.ylabel('Actual')\n",
        "plt.title('Confusion Matrix')\n",
        "plt.show()"
      ],
      "metadata": {
        "colab": {
          "base_uri": "https://localhost:8080/",
          "height": 641
        },
        "id": "KKuoqBUKfYHi",
        "outputId": "5471dc24-bf50-4ede-9cd3-8878bcee06cc"
      },
      "execution_count": 245,
      "outputs": [
        {
          "output_type": "display_data",
          "data": {
            "text/plain": [
              "<Figure size 1000x700 with 2 Axes>"
            ],
            "image/png": "[encoded data removed]"
          },
          "metadata": {}
        }
      ]
    },
    {
      "cell_type": "markdown",
      "source": [
        "# **REGRESI**"
      ],
      "metadata": {
        "id": "Sma8hkJ8flY1"
      }
    },
    {
      "cell_type": "code",
      "source": [
        "from sklearn.linear_model import LinearRegression\n",
        "from sklearn.model_selection import train_test_split\n",
        "from sklearn.preprocessing import StandardScaler\n",
        "from sklearn.metrics import mean_squared_error, r2_score\n",
        "import matplotlib.pyplot as plt"
      ],
      "metadata": {
        "id": "IY2A8Jk2fquw"
      },
      "execution_count": 246,
      "outputs": []
    },
    {
      "cell_type": "code",
      "source": [
        "X_reg = data[['Age Group', 'Gender', 'Marital Status', 'Latest Degree', 'Job Grade Title']]\n",
        "y_reg = data['Length of Employment (2)']"
      ],
      "metadata": {
        "id": "efbuU_eUfy1M"
      },
      "execution_count": 247,
      "outputs": []
    },
    {
      "cell_type": "code",
      "source": [
        "X_train_reg, X_test_reg, y_train_reg, y_test_reg = train_test_split(X_reg, y_reg, test_size=0.3, random_state=42)"
      ],
      "metadata": {
        "id": "MRVWlRFYgzNq"
      },
      "execution_count": 248,
      "outputs": []
    },
    {
      "cell_type": "code",
      "source": [
        "print(data.describe())"
      ],
      "metadata": {
        "colab": {
          "base_uri": "https://localhost:8080/"
        },
        "id": "2L8T3Vlvygyh",
        "outputId": "00956187-2605-40e1-9741-94b13281c167"
      },
      "execution_count": 249,
      "outputs": [
        {
          "output_type": "stream",
          "name": "stdout",
          "text": [
            "               No   Employee ID        Name  Job Grade Title   Job Title  \\\n",
            "count  708.000000  7.080000e+02  708.000000       708.000000  708.000000   \n",
            "mean   354.500000  1.249905e+08  352.725989         3.861582  186.988701   \n",
            "min      1.000000  1.000100e+04    0.000000         0.000000    0.000000   \n",
            "25%    177.750000  1.022175e+04  175.750000         3.000000  126.000000   \n",
            "50%    354.500000  2.150261e+08  352.500000         3.000000  207.000000   \n",
            "75%    531.250000  2.180314e+08  529.250000         6.000000  261.250000   \n",
            "max    708.000000  2.181126e+08  706.000000         7.000000  298.000000   \n",
            "std    204.526282  1.072549e+08  204.223305         1.736714   84.940531   \n",
            "\n",
            "       Directorate    Division  Department  Location Type  Work Schedule  ...  \\\n",
            "count   708.000000  708.000000  708.000000     708.000000     708.000000  ...   \n",
            "mean      3.166667   13.329096   45.218927       0.594633       0.456215  ...   \n",
            "min       0.000000    0.000000    0.000000       0.000000       0.000000  ...   \n",
            "25%       2.000000    6.000000   30.000000       0.000000       0.000000  ...   \n",
            "50%       4.000000   17.000000   52.000000       1.000000       0.000000  ...   \n",
            "75%       4.000000   18.000000   63.000000       1.000000       1.000000  ...   \n",
            "max       4.000000   23.000000   73.000000       1.000000       1.000000  ...   \n",
            "std       1.286605    6.466136   22.294451       0.491310       0.498431  ...   \n",
            "\n",
            "               64          65          66          67          68          69  \\\n",
            "count  708.000000  708.000000  708.000000  708.000000  708.000000  708.000000   \n",
            "mean     4.237288    4.055085    4.100282    4.101695    4.035311    3.960452   \n",
            "min      2.000000    1.000000    1.000000    1.000000    1.000000    1.000000   \n",
            "25%      4.000000    4.000000    4.000000    4.000000    4.000000    4.000000   \n",
            "50%      4.000000    4.000000    4.000000    4.000000    4.000000    4.000000   \n",
            "75%      5.000000    4.000000    4.000000    4.000000    4.000000    4.000000   \n",
            "max      5.000000    5.000000    5.000000    5.000000    5.000000    5.000000   \n",
            "std      0.539966    0.647978    0.617839    0.621034    0.662298    0.756764   \n",
            "\n",
            "               70          71          72          73  \n",
            "count  708.000000  708.000000  708.000000  708.000000  \n",
            "mean     4.026836    4.045198    4.062147    4.086158  \n",
            "min      1.000000    1.000000    1.000000    2.000000  \n",
            "25%      4.000000    4.000000    4.000000    4.000000  \n",
            "50%      4.000000    4.000000    4.000000    4.000000  \n",
            "75%      4.000000    4.000000    4.000000    4.000000  \n",
            "max      5.000000    5.000000    5.000000    5.000000  \n",
            "std      0.679556    0.696073    0.659246    0.610776  \n",
            "\n",
            "[8 rows x 95 columns]\n"
          ]
        }
      ]
    },
    {
      "cell_type": "code",
      "source": [
        "scaler_reg = StandardScaler()\n",
        "X_train_reg = scaler_reg.fit_transform(X_train_reg)\n",
        "X_test_reg = scaler_reg.transform(X_test_reg)"
      ],
      "metadata": {
        "id": "geBva5RuzFsa"
      },
      "execution_count": 250,
      "outputs": []
    },
    {
      "cell_type": "code",
      "source": [
        "model_reg = LinearRegression()\n",
        "model_reg.fit(X_train_reg, y_train_reg)"
      ],
      "metadata": {
        "colab": {
          "base_uri": "https://localhost:8080/",
          "height": 75
        },
        "id": "4i1KdsD2zJHd",
        "outputId": "ffa871bf-0979-430a-891a-e934dac656c7"
      },
      "execution_count": 251,
      "outputs": [
        {
          "output_type": "execute_result",
          "data": {
            "text/plain": [
              "LinearRegression()"
            ],
            "text/html": [
              "<style>#sk-container-id-15 {color: black;background-color: white;}#sk-container-id-15 pre{padding: 0;}#sk-container-id-15 div.sk-toggleable {background-color: white;}#sk-container-id-15 label.sk-toggleable__label {cursor: pointer;display: block;width: 100%;margin-bottom: 0;padding: 0.3em;box-sizing: border-box;text-align: center;}#sk-container-id-15 label.sk-toggleable__label-arrow:before {content: \"▸\";float: left;margin-right: 0.25em;color: #696969;}#sk-container-id-15 label.sk-toggleable__label-arrow:hover:before {color: black;}#sk-container-id-15 div.sk-estimator:hover label.sk-toggleable__label-arrow:before {color: black;}#sk-container-id-15 div.sk-toggleable__content {max-height: 0;max-width: 0;overflow: hidden;text-align: left;background-color: #f0f8ff;}#sk-container-id-15 div.sk-toggleable__content pre {margin: 0.2em;color: black;border-radius: 0.25em;background-color: #f0f8ff;}#sk-container-id-15 input.sk-toggleable__control:checked~div.sk-toggleable__content {max-height: 200px;max-width: 100%;overflow: auto;}#sk-container-id-15 input.sk-toggleable__control:checked~label.sk-toggleable__label-arrow:before {content: \"▾\";}#sk-container-id-15 div.sk-estimator input.sk-toggleable__control:checked~label.sk-toggleable__label {background-color: #d4ebff;}#sk-container-id-15 div.sk-label input.sk-toggleable__control:checked~label.sk-toggleable__label {background-color: #d4ebff;}#sk-container-id-15 input.sk-hidden--visually {border: 0;clip: rect(1px 1px 1px 1px);clip: rect(1px, 1px, 1px, 1px);height: 1px;margin: -1px;overflow: hidden;padding: 0;position: absolute;width: 1px;}#sk-container-id-15 div.sk-estimator {font-family: monospace;background-color: #f0f8ff;border: 1px dotted black;border-radius: 0.25em;box-sizing: border-box;margin-bottom: 0.5em;}#sk-container-id-15 div.sk-estimator:hover {background-color: #d4ebff;}#sk-container-id-15 div.sk-parallel-item::after {content: \"\";width: 100%;border-bottom: 1px solid gray;flex-grow: 1;}#sk-container-id-15 div.sk-label:hover label.sk-toggleable__label {background-color: #d4ebff;}#sk-container-id-15 div.sk-serial::before {content: \"\";position: absolute;border-left: 1px solid gray;box-sizing: border-box;top: 0;bottom: 0;left: 50%;z-index: 0;}#sk-container-id-15 div.sk-serial {display: flex;flex-direction: column;align-items: center;background-color: white;padding-right: 0.2em;padding-left: 0.2em;position: relative;}#sk-container-id-15 div.sk-item {position: relative;z-index: 1;}#sk-container-id-15 div.sk-parallel {display: flex;align-items: stretch;justify-content: center;background-color: white;position: relative;}#sk-container-id-15 div.sk-item::before, #sk-container-id-15 div.sk-parallel-item::before {content: \"\";position: absolute;border-left: 1px solid gray;box-sizing: border-box;top: 0;bottom: 0;left: 50%;z-index: -1;}#sk-container-id-15 div.sk-parallel-item {display: flex;flex-direction: column;z-index: 1;position: relative;background-color: white;}#sk-container-id-15 div.sk-parallel-item:first-child::after {align-self: flex-end;width: 50%;}#sk-container-id-15 div.sk-parallel-item:last-child::after {align-self: flex-start;width: 50%;}#sk-container-id-15 div.sk-parallel-item:only-child::after {width: 0;}#sk-container-id-15 div.sk-dashed-wrapped {border: 1px dashed gray;margin: 0 0.4em 0.5em 0.4em;box-sizing: border-box;padding-bottom: 0.4em;background-color: white;}#sk-container-id-15 div.sk-label label {font-family: monospace;font-weight: bold;display: inline-block;line-height: 1.2em;}#sk-container-id-15 div.sk-label-container {text-align: center;}#sk-container-id-15 div.sk-container {/* jupyter's `normalize.less` sets `[hidden] { display: none; }` but bootstrap.min.css set `[hidden] { display: none !important; }` so we also need the `!important` here to be able to override the default hidden behavior on the sphinx rendered scikit-learn.org. See: https://github.com/scikit-learn/scikit-learn/issues/21755 */display: inline-block !important;position: relative;}#sk-container-id-15 div.sk-text-repr-fallback {display: none;}</style><div id=\"sk-container-id-15\" class=\"sk-top-container\"><div class=\"sk-text-repr-fallback\"><pre>LinearRegression()</pre><b>In a Jupyter environment, please rerun this cell to show the HTML representation or trust the notebook. <br />On GitHub, the HTML representation is unable to render, please try loading this page with nbviewer.org.</b></div><div class=\"sk-container\" hidden><div class=\"sk-item\"><div class=\"sk-estimator sk-toggleable\"><input class=\"sk-toggleable__control sk-hidden--visually\" id=\"sk-estimator-id-15\" type=\"checkbox\" checked><label for=\"sk-estimator-id-15\" class=\"sk-toggleable__label sk-toggleable__label-arrow\">LinearRegression</label><div class=\"sk-toggleable__content\"><pre>LinearRegression()</pre></div></div></div></div></div>"
            ]
          },
          "metadata": {},
          "execution_count": 251
        }
      ]
    },
    {
      "cell_type": "code",
      "source": [
        "y_pred_reg = model_reg.predict(X_test_reg)"
      ],
      "metadata": {
        "id": "FG3JsSV3zO4x"
      },
      "execution_count": 252,
      "outputs": []
    },
    {
      "cell_type": "code",
      "source": [
        "print(\"\\nMean Squared Error:\", mean_squared_error(y_test_reg, y_pred_reg))\n",
        "print(\"R^2 Score:\", r2_score(y_test_reg, y_pred_reg))"
      ],
      "metadata": {
        "colab": {
          "base_uri": "https://localhost:8080/"
        },
        "id": "REm3jf8szUyR",
        "outputId": "9f78a910-e8a4-4cee-f019-85d474ab4c87"
      },
      "execution_count": 253,
      "outputs": [
        {
          "output_type": "stream",
          "name": "stdout",
          "text": [
            "\n",
            "Mean Squared Error: 4.138193382745205\n",
            "R^2 Score: 0.18080801634596133\n"
          ]
        }
      ]
    },
    {
      "cell_type": "code",
      "source": [
        "plt.figure(figsize=(10,7))\n",
        "plt.scatter(y_test_reg, y_pred_reg)\n",
        "plt.xlabel('Actual Length of Employment')\n",
        "plt.ylabel('Predicted Length of Employment')\n",
        "plt.title('Actual vs Predicted Length of Employment')\n",
        "plt.show()"
      ],
      "metadata": {
        "colab": {
          "base_uri": "https://localhost:8080/",
          "height": 641
        },
        "id": "-EEdzBKahD-s",
        "outputId": "d1c98c66-f20f-4666-d091-cdadb3591979"
      },
      "execution_count": 254,
      "outputs": [
        {
          "output_type": "display_data",
          "data": {
            "text/plain": [
              "<Figure size 1000x700 with 1 Axes>"
            ],
            "image/png": "[encoded data removed]"
          },
          "metadata": {}
        }
      ]
    },
    {
      "cell_type": "markdown",
      "source": [
        "CLUSTERING"
      ],
      "metadata": {
        "id": "5PAlnRYVhdV1"
      }
    },
    {
      "cell_type": "code",
      "source": [
        "from sklearn.cluster import KMeans\n",
        "from sklearn.decomposition import PCA\n",
        "import matplotlib.pyplot as plt\n",
        "import seaborn as sns"
      ],
      "metadata": {
        "id": "RktJKgeShf1V"
      },
      "execution_count": 255,
      "outputs": []
    },
    {
      "cell_type": "code",
      "source": [
        "X_clust = data[['Age Group', 'Length of Employment (2)']]"
      ],
      "metadata": {
        "id": "K45zC5nYhjbG"
      },
      "execution_count": 256,
      "outputs": []
    },
    {
      "cell_type": "code",
      "source": [
        "X_clust = StandardScaler().fit_transform(X_clust)"
      ],
      "metadata": {
        "id": "vEUFJqbZh1H1"
      },
      "execution_count": 257,
      "outputs": []
    },
    {
      "cell_type": "code",
      "source": [
        "kmeans = KMeans(n_clusters=3, random_state=42)\n",
        "clusters = kmeans.fit_predict(X_clust)"
      ],
      "metadata": {
        "colab": {
          "base_uri": "https://localhost:8080/"
        },
        "id": "T4ixcLM_h3jT",
        "outputId": "6a8b1c03-9f8b-4f86-8cf6-8cbe1e86e981"
      },
      "execution_count": 258,
      "outputs": [
        {
          "output_type": "stream",
          "name": "stderr",
          "text": [
            "/usr/local/lib/python3.10/dist-packages/sklearn/cluster/_kmeans.py:870: FutureWarning: The default value of `n_init` will change from 10 to 'auto' in 1.4. Set the value of `n_init` explicitly to suppress the warning\n",
            "  warnings.warn(\n"
          ]
        }
      ]
    },
    {
      "cell_type": "code",
      "source": [
        "pca = PCA(n_components=2)\n",
        "principal_components = pca.fit_transform(X_clust)"
      ],
      "metadata": {
        "id": "TrXFF1YKh9gG"
      },
      "execution_count": 259,
      "outputs": []
    },
    {
      "cell_type": "code",
      "source": [
        "pca_df = pd.DataFrame(data=principal_components, columns=['PC1', 'PC2'])\n",
        "pca_df['Cluster'] = clusters"
      ],
      "metadata": {
        "id": "NDRa_Fy9h_nT"
      },
      "execution_count": 260,
      "outputs": []
    },
    {
      "cell_type": "code",
      "source": [
        "plt.figure(figsize=(10,7))\n",
        "sns.scatterplot(x='PC1', y='PC2', hue='Cluster', data=pca_df, palette='viridis')\n",
        "plt.title('Clustering of Employees Based on Age and Length of Employment')\n",
        "plt.xlabel('Principal Component 1')\n",
        "plt.ylabel('Principal Component 2')\n",
        "plt.show()"
      ],
      "metadata": {
        "colab": {
          "base_uri": "https://localhost:8080/",
          "height": 641
        },
        "id": "vtH9XEy9iCUF",
        "outputId": "7d7f36f6-a43d-496a-d195-9e0b85a2ceb6"
      },
      "execution_count": 261,
      "outputs": [
        {
          "output_type": "display_data",
          "data": {
            "text/plain": [
              "<Figure size 1000x700 with 1 Axes>"
            ],
            "image/png": "[encoded data removed]"
          },
          "metadata": {}
        }
      ]
    },
    {
      "cell_type": "markdown",
      "source": [
        "Analisis"
      ],
      "metadata": {
        "id": "hioCZ033QGD4"
      }
    },
    {
      "cell_type": "code",
      "source": [
        "import pandas as pd\n",
        "EES = pd.read_excel('Data EES.xlsx')"
      ],
      "metadata": {
        "id": "eUEs1a8MQP1G"
      },
      "execution_count": 268,
      "outputs": []
    },
    {
      "cell_type": "code",
      "source": [
        "pd.set_option('display.max_columns', None)\n",
        "print(EES)"
      ],
      "metadata": {
        "colab": {
          "base_uri": "https://localhost:8080/"
        },
        "id": "UKY419SRTOn-",
        "outputId": "5e4c3856-84ff-4e10-b50a-3262177d408c"
      },
      "execution_count": 273,
      "outputs": [
        {
          "output_type": "stream",
          "name": "stdout",
          "text": [
            "      No  Employee ID                  Name  \\\n",
            "0      1    208061001     Yandri Firmansyah   \n",
            "1      2    209011004        Kamal Sopianto   \n",
            "2      3    209031007       Noviadi Widjaya   \n",
            "3      4    209091010           Andryansyah   \n",
            "4      5    209101013               Solihin   \n",
            "..   ...          ...                   ...   \n",
            "703  704        10366           Ade Arianti   \n",
            "704  705        10367      Ayu Mutiara Sari   \n",
            "705  706        10368  Siti Janatun A'ni'ah   \n",
            "706  707        10103          Rubby Riesta   \n",
            "707  708        10261   Ruby Ayu Megadewani   \n",
            "\n",
            "                                    Job Grade Title  \\\n",
            "0                                      Section Head   \n",
            "1                                             Staff   \n",
            "2    Advisor / Principal Engineer / Department Head   \n",
            "3                                      Section Head   \n",
            "4                                             Staff   \n",
            "..                                              ...   \n",
            "703                           Engineer / Specialist   \n",
            "704                           Engineer / Specialist   \n",
            "705                           Engineer / Specialist   \n",
            "706                           Engineer / Specialist   \n",
            "707                           Engineer / Specialist   \n",
            "\n",
            "                                             Job Title  \\\n",
            "0                            Station Duty Section Head   \n",
            "1    Railway Electricity Technology Maintenance Reg...   \n",
            "2                       Finance and Accounting Advisor   \n",
            "3                            Station Duty Section Head   \n",
            "4            Line Rolling Stock Maintenance Technician   \n",
            "..                                                 ...   \n",
            "703                      Civil Structure RAMS Engineer   \n",
            "704     Automatic Fare Collection Maintenance Engineer   \n",
            "705      General Ledger and Asset Reporting Specialist   \n",
            "706                                Security Specialist   \n",
            "707                        Commercial Legal Specialist   \n",
            "\n",
            "                                      Directorate  \\\n",
            "0           Operation and Maintenance Directorate   \n",
            "1           Operation and Maintenance Directorate   \n",
            "2    Finance and Corporate Management Directorate   \n",
            "3           Operation and Maintenance Directorate   \n",
            "4           Operation and Maintenance Directorate   \n",
            "..                                            ...   \n",
            "703         Operation and Maintenance Directorate   \n",
            "704         Operation and Maintenance Directorate   \n",
            "705  Finance and Corporate Management Directorate   \n",
            "706         Operation and Maintenance Directorate   \n",
            "707              Business Development Directorate   \n",
            "\n",
            "                                              Division  \\\n",
            "0                         Customer Engagement Division   \n",
            "1          Railway Infrastructure Maintenance Division   \n",
            "2                      Finance and Accounting Division   \n",
            "3                         Customer Engagement Division   \n",
            "4    Rolling Stock Maintenance and Technology Cente...   \n",
            "..                                                 ...   \n",
            "703        Railway Infrastructure Maintenance Division   \n",
            "704  Rolling Stock Maintenance and Technology Cente...   \n",
            "705                    Finance and Accounting Division   \n",
            "706  Operation and Maintenance Facility Services Di...   \n",
            "707  Commercial and Transit Oriented Development Fa...   \n",
            "\n",
            "                                            Department Location Type  \\\n",
            "0                          Station Master 3 Department            WS   \n",
            "1    Railway Electricity Technology Maintenance Dep...            WS   \n",
            "2                                                    0            HO   \n",
            "3                          Station Master 2 Department            WS   \n",
            "4                 Rolling Stock Maintenance Department            WS   \n",
            "..                                                 ...           ...   \n",
            "703  Civil Permanent Way Technology Maintenance Dep...            WS   \n",
            "704  Operation Technology and Ticketing Center Depa...            WS   \n",
            "705        Accounting and Financial Control Department            HO   \n",
            "706                                Security Department            HO   \n",
            "707                        Commercial Legal Department            HO   \n",
            "\n",
            "    Work Schedule       Work Location Date of Birth Date of EOY  \\\n",
            "0           Shift     Bendungan Hilir    1976-11-14  2023-12-31   \n",
            "1           Shift  Prasarana Building    1979-01-24  2023-12-31   \n",
            "2     Office Hour     Wisma Nusantara    1971-11-29  2023-12-31   \n",
            "3           Shift              Istora    1972-06-06  2023-12-31   \n",
            "4           Shift     Sarana Building    1980-04-08  2023-12-31   \n",
            "..            ...                 ...           ...         ...   \n",
            "703   Office Hour  Prasarana Building    1994-10-09  2023-12-31   \n",
            "704   Office Hour      Admin Building    1998-07-03  2023-12-31   \n",
            "705   Office Hour     Wisma Nusantara    2000-02-07  2023-12-31   \n",
            "706   Office Hour      Admin Building    1986-03-25  2023-12-31   \n",
            "707   Office Hour       Transport Hub    1994-04-01  2023-12-31   \n",
            "\n",
            "                   Detailed Age  Age Group Marital Status  Gender  Join Date  \\\n",
            "0     47 years 1 months 17 days         47        Married    Male 2008-06-17   \n",
            "1     44 years 11 months 7 days         44        Married    Male 2009-01-12   \n",
            "2      52 years 1 months 2 days         52        Married    Male 2009-03-02   \n",
            "3     51 years 6 months 25 days         51        Married    Male 2009-09-01   \n",
            "4     43 years 8 months 23 days         43        Married    Male 2009-10-01   \n",
            "..                          ...        ...            ...     ...        ...   \n",
            "703   29 years 2 months 22 days         29        Married  Female 2022-12-05   \n",
            "704   25 years 5 months 28 days         25         Single  Female 2022-12-19   \n",
            "705  23 years 10 months 24 days         23         Single  Female 2022-12-19   \n",
            "706    37 years 9 months 6 days         37         Single    Male 2019-09-03   \n",
            "707   29 years 8 months 30 days         29        Married  Female 2021-03-01   \n",
            "\n",
            "           Length of Employment  Length of Employment (2) Employee \\nStatus  \\\n",
            "0     15 years 6 months 14 days                        15         Permanent   \n",
            "1    14 years 11 months 19 days                        14         Permanent   \n",
            "2     14 years 9 months 29 days                        14         Permanent   \n",
            "3     14 years 3 months 30 days                        14         Permanent   \n",
            "4     14 years 2 months 30 days                        14         Permanent   \n",
            "..                          ...                       ...               ...   \n",
            "703    1 years 0 months 26 days                         1         Permanent   \n",
            "704    1 years 0 months 12 days                         1         Permanent   \n",
            "705    1 years 0 months 12 days                         1          Contract   \n",
            "706    4 years 3 months 28 days                         4         Permanent   \n",
            "707    2 years 9 months 30 days                         2         Permanent   \n",
            "\n",
            "    Latest Degree  1  2  3  4  5  6  7  8  9  10  11  12  13  14  15  16  17  \\\n",
            "0        Bachelor  4  4  4  4  4  4  4  4  1   4   4   4   4   4   4   4   5   \n",
            "1        Bachelor  4  4  4  4  4  4  3  4  4   4   4   4   4   4   4   4   3   \n",
            "2        Bachelor  4  4  4  4  4  4  4  4  4   4   5   5   5   5   5   5   5   \n",
            "3         Diploma  3  3  3  3  3  3  4  4  3   3   3   3   3   3   4   4   5   \n",
            "4         Diploma  4  4  4  4  4  4  4  4  4   4   4   4   4   4   4   4   4   \n",
            "..            ... .. .. .. .. .. .. .. .. ..  ..  ..  ..  ..  ..  ..  ..  ..   \n",
            "703      Bachelor  4  4  4  4  4  5  3  4  4   4   5   5   4   4   4   4   4   \n",
            "704      Bachelor  5  5  5  4  5  5  5  5  5   5   5   5   5   5   5   5   4   \n",
            "705      Bachelor  4  4  4  4  4  5  3  3  4   4   4   4   4   4   4   4   5   \n",
            "706      Bachelor  3  3  3  4  4  4  3  3  3   3   3   3   3   2   3   4   4   \n",
            "707      Bachelor  4  4  3  3  4  3  5  5  5   5   4   4   4   3   3   4   5   \n",
            "\n",
            "     18  19  20  21  22  23  24  25  26  27  28  29  30  31  32  33  34  35  \\\n",
            "0     5   4   4   5   4   5   5   4   5   4   4   4   5   4   5   4   5   5   \n",
            "1     4   2   3   4   4   4   4   5   4   4   4   4   4   4   4   4   4   4   \n",
            "2     5   5   4   5   5   5   5   5   5   5   5   5   5   5   5   5   5   5   \n",
            "3     5   4   4   4   5   4   4   4   3   5   4   4   4   3   3   4   5   4   \n",
            "4     4   4   4   4   4   4   4   4   4   4   4   4   4   4   4   4   4   4   \n",
            "..   ..  ..  ..  ..  ..  ..  ..  ..  ..  ..  ..  ..  ..  ..  ..  ..  ..  ..   \n",
            "703   4   4   4   4   4   4   4   4   4   4   4   4   4   4   4   4   4   4   \n",
            "704   4   4   4   5   4   4   4   4   4   4   4   5   5   5   5   5   5   5   \n",
            "705   5   5   4   4   5   4   4   5   5   4   4   4   4   3   4   4   5   4   \n",
            "706   4   4   1   1   4   2   2   2   3   3   4   2   3   3   3   4   4   4   \n",
            "707   5   5   3   3   4   4   4   4   4   4   4   4   4   4   4   5   3   2   \n",
            "\n",
            "     36  37  38  39  40  41  42  43  44  45  46  47  48  49  50  51  52  53  \\\n",
            "0     5   4   5   3   4   5   4   4   5   4   5   5   5   5   5   5   5   5   \n",
            "1     4   4   5   4   4   4   4   4   4   4   4   4   4   4   4   4   4   4   \n",
            "2     5   5   5   5   5   5   5   5   5   5   5   4   4   4   4   4   4   4   \n",
            "3     4   5   3   3   3   3   4   4   4   4   4   4   4   4   4   4   4   5   \n",
            "4     4   4   4   4   4   4   4   4   4   4   4   4   4   4   4   4   4   4   \n",
            "..   ..  ..  ..  ..  ..  ..  ..  ..  ..  ..  ..  ..  ..  ..  ..  ..  ..  ..   \n",
            "703   4   4   4   4   4   4   4   4   4   4   4   3   3   4   4   4   4   4   \n",
            "704   5   5   5   5   4   5   5   5   5   5   5   5   5   5   5   4   4   4   \n",
            "705   4   5   4   4   4   4   4   4   4   4   4   3   3   4   4   4   4   4   \n",
            "706   4   4   3   3   2   2   2   3   3   4   4   2   2   2   2   3   3   5   \n",
            "707   3   5   5   5   5   4   4   4   4   4   4   3   3   2   2   4   3   4   \n",
            "\n",
            "     54  55  56  57  58  59  60  61  62  63  64  65  66  67  68  69  70  71  \\\n",
            "0     5   5   5   5   5   5   5   5   5   5   5   5   5   5   5   5   5   5   \n",
            "1     4   4   4   4   4   4   4   4   3   4   4   4   4   4   4   4   4   4   \n",
            "2     4   4   4   4   4   4   4   4   5   5   5   5   5   5   5   5   5   5   \n",
            "3     4   4   5   5   4   4   4   4   4   4   5   4   4   4   4   5   4   4   \n",
            "4     4   4   4   4   4   4   4   4   4   4   4   4   4   4   4   4   4   4   \n",
            "..   ..  ..  ..  ..  ..  ..  ..  ..  ..  ..  ..  ..  ..  ..  ..  ..  ..  ..   \n",
            "703   4   3   4   4   5   4   5   4   2   4   3   4   4   4   5   5   4   4   \n",
            "704   4   4   4   4   5   5   5   5   4   4   4   5   5   5   4   4   4   4   \n",
            "705   4   4   4   4   5   4   5   4   3   4   4   3   4   3   4   4   4   4   \n",
            "706   4   3   4   3   4   3   3   3   4   5   4   3   3   3   4   1   2   3   \n",
            "707   4   2   5   5   5   5   4   4   3   4   4   4   4   4   3   1   3   2   \n",
            "\n",
            "     72  73  \n",
            "0     5   5  \n",
            "1     4   4  \n",
            "2     5   5  \n",
            "3     4   4  \n",
            "4     4   4  \n",
            "..   ..  ..  \n",
            "703   4   5  \n",
            "704   4   4  \n",
            "705   4   4  \n",
            "706   3   3  \n",
            "707   3   3  \n",
            "\n",
            "[708 rows x 95 columns]\n"
          ]
        }
      ]
    },
    {
      "cell_type": "code",
      "source": [
        "# Fungsi untuk menghitung rata-rata untuk setiap kategori\n",
        "def calculate_average(data, start_col, end_col):\n",
        "    category_data = data.iloc[:, start_col-1:end_col]  # -1 karena indeks kolom pandas dimulai dari 0\n",
        "    category_mean_per_question = category_data.mean(axis=0, skipna=True)  # Rata-rata per kolom\n",
        "    overall_mean = category_mean_per_question.mean(skipna=True)  # Rata-rata keseluruhan dari semua pertanyaan\n",
        "    return overall_mean"
      ],
      "metadata": {
        "id": "oW2EqJfxSyKZ"
      },
      "execution_count": 284,
      "outputs": []
    },
    {
      "cell_type": "code",
      "source": [
        "# Menghitung rata-rata untuk setiap kategori\n",
        "overall_leadership = calculate_average(EES, 23, 38)\n",
        "overall_day_to_day = calculate_average(EES, 39, 53)\n",
        "overall_teamwork = calculate_average(EES, 54, 68)\n",
        "overall_organization = calculate_average(EES, 69, 83)\n",
        "overall_performance = calculate_average(EES, 84, 89)\n",
        "overall_retention = calculate_average(EES, 90, 95)"
      ],
      "metadata": {
        "id": "unpC3RfDS20P"
      },
      "execution_count": 285,
      "outputs": []
    },
    {
      "cell_type": "code",
      "source": [
        "# Menampilkan hasil rata-rata\n",
        "print(\"Overall Leadership:\", overall_leadership)\n",
        "print(\"Overall Day to Day:\", overall_day_to_day)\n",
        "print(\"Overall TeamWork:\", overall_teamwork)\n",
        "print(\"Overall Organization:\", overall_organization)\n",
        "print(\"Overall Performance:\", overall_performance)\n",
        "print(\"Overall Retention:\", overall_retention)"
      ],
      "metadata": {
        "colab": {
          "base_uri": "https://localhost:8080/"
        },
        "id": "-3R-EFD2WYHM",
        "outputId": "d0375fa0-9610-4566-d933-fa6791eb993e"
      },
      "execution_count": 286,
      "outputs": [
        {
          "output_type": "stream",
          "name": "stdout",
          "text": [
            "Overall Leadership: 4.0905720338983045\n",
            "Overall Day to Day: 4.225235404896422\n",
            "Overall TeamWork: 4.253389830508476\n",
            "Overall Organization: 4.026271186440678\n",
            "Overall Performance: 4.036016949152542\n",
            "Overall Retention: 4.036016949152542\n"
          ]
        }
      ]
    },
    {
      "cell_type": "code",
      "source": [
        "# Gender\n",
        "gender_counts = EES['Gender'].value_counts()\n",
        "gender_percentages = EES['Gender'].value_counts(normalize=True) * 100\n",
        "print(\"Gender Percentages:\\n\", gender_percentages)"
      ],
      "metadata": {
        "colab": {
          "base_uri": "https://localhost:8080/"
        },
        "id": "Tp7k1lMVR0vy",
        "outputId": "a56fdf9f-972f-4990-f959-e916d3da0aaa"
      },
      "execution_count": 287,
      "outputs": [
        {
          "output_type": "stream",
          "name": "stdout",
          "text": [
            "Gender Percentages:\n",
            " Gender\n",
            "Male      71.327684\n",
            "Female    28.672316\n",
            "Name: proportion, dtype: float64\n"
          ]
        }
      ]
    },
    {
      "cell_type": "code",
      "source": [
        "# Marital Status\n",
        "marital_counts = EES['Marital Status'].value_counts()\n",
        "marital_percentages = EES['Marital Status'].value_counts(normalize=True) * 100\n",
        "print(\"Marital Status Percentages:\\n\", marital_percentages)"
      ],
      "metadata": {
        "colab": {
          "base_uri": "https://localhost:8080/"
        },
        "id": "3QIfqS8kZR_4",
        "outputId": "0acf7df7-ebe6-4f3c-8684-53d618cc1261"
      },
      "execution_count": 289,
      "outputs": [
        {
          "output_type": "stream",
          "name": "stdout",
          "text": [
            "Marital Status Percentages:\n",
            " Marital Status\n",
            "Married    71.045198\n",
            "Single     28.954802\n",
            "Name: proportion, dtype: float64\n"
          ]
        }
      ]
    },
    {
      "cell_type": "code",
      "source": [
        "# Location Type\n",
        "location_counts = EES['Location Type'].value_counts()\n",
        "location_percentages = EES['Location Type'].value_counts(normalize=True) * 100\n",
        "print(\"Location Type Percentages:\\n\", location_percentages)"
      ],
      "metadata": {
        "colab": {
          "base_uri": "https://localhost:8080/"
        },
        "id": "Fw4ufeF7Ze73",
        "outputId": "6c4a6191-da86-4ddc-f0d4-7b0157efa41c"
      },
      "execution_count": 290,
      "outputs": [
        {
          "output_type": "stream",
          "name": "stdout",
          "text": [
            "Location Type Percentages:\n",
            " Location Type\n",
            "WS    59.463277\n",
            "HO    40.536723\n",
            "Name: proportion, dtype: float64\n"
          ]
        }
      ]
    },
    {
      "cell_type": "code",
      "source": [
        "# Work Schedule\n",
        "work_schedule_counts = EES['Work Schedule'].value_counts()\n",
        "work_schedule_percentages = EES['Work Schedule'].value_counts(normalize=True) * 100\n",
        "print(\"Work Schedule Percentages:\\n\", work_schedule_percentages)"
      ],
      "metadata": {
        "colab": {
          "base_uri": "https://localhost:8080/"
        },
        "id": "0QtGRM0fZk1r",
        "outputId": "c2b7b6b6-5157-49c2-d364-8164317222d5"
      },
      "execution_count": 291,
      "outputs": [
        {
          "output_type": "stream",
          "name": "stdout",
          "text": [
            "Work Schedule Percentages:\n",
            " Work Schedule\n",
            "Office Hour    54.378531\n",
            "Shift          45.621469\n",
            "Name: proportion, dtype: float64\n"
          ]
        }
      ]
    },
    {
      "cell_type": "code",
      "source": [
        "# Employee Status\n",
        "employee_status_counts = EES['Employee \\nStatus'].value_counts()\n",
        "employee_status_percentages = EES['Employee \\nStatus'].value_counts(normalize=True) * 100\n",
        "print(\"Employee Status Percentages:\\n\", employee_status_percentages)"
      ],
      "metadata": {
        "colab": {
          "base_uri": "https://localhost:8080/"
        },
        "id": "OyexKWQNaFMe",
        "outputId": "382310f2-99db-4452-8867-29fc654f42a1"
      },
      "execution_count": 293,
      "outputs": [
        {
          "output_type": "stream",
          "name": "stdout",
          "text": [
            "Employee Status Percentages:\n",
            " Employee \\nStatus\n",
            "Permanent    98.587571\n",
            "Contract      1.412429\n",
            "Name: proportion, dtype: float64\n"
          ]
        }
      ]
    },
    {
      "cell_type": "code",
      "source": [
        "# Latest Degree\n",
        "degree_counts = EES['Latest Degree'].value_counts()\n",
        "degree_percentages = EES['Latest Degree'].value_counts(normalize=True) * 100\n",
        "print(\"Latest Degree Percentages:\\n\", degree_percentages)"
      ],
      "metadata": {
        "colab": {
          "base_uri": "https://localhost:8080/"
        },
        "id": "KjRQekT7ag8S",
        "outputId": "bc404649-9434-46bc-ac0b-51b57126b71b"
      },
      "execution_count": 294,
      "outputs": [
        {
          "output_type": "stream",
          "name": "stdout",
          "text": [
            "Latest Degree Percentages:\n",
            " Latest Degree\n",
            "Bachelor       67.090395\n",
            "Master         15.112994\n",
            "Diploma        11.440678\n",
            "High School     6.355932\n",
            "Name: proportion, dtype: float64\n"
          ]
        }
      ]
    },
    {
      "cell_type": "code",
      "source": [
        "# Directorate\n",
        "directorate_counts = EES['Directorate'].value_counts()\n",
        "directorate_percentages = EES['Directorate'].value_counts(normalize=True) * 100\n",
        "print(\"Directorate Percentages:\\n\", directorate_percentages)"
      ],
      "metadata": {
        "colab": {
          "base_uri": "https://localhost:8080/"
        },
        "id": "0J1cu9Q6aowD",
        "outputId": "e166127d-e673-4d0e-d2a4-5d619a438975"
      },
      "execution_count": 295,
      "outputs": [
        {
          "output_type": "stream",
          "name": "stdout",
          "text": [
            "Directorate Percentages:\n",
            " Directorate\n",
            "Operation and Maintenance Directorate           65.395480\n",
            "Finance and Corporate Management Directorate    10.875706\n",
            "Construction Directorate                        10.875706\n",
            "Main Directorate                                 7.485876\n",
            "Business Development Directorate                 5.367232\n",
            "Name: proportion, dtype: float64\n"
          ]
        }
      ]
    },
    {
      "cell_type": "code",
      "source": [
        "# Mengganti nilai \"engineer / Specialist\" menjadi \"Engineer / Specialist\"\n",
        "EES['Job Grade Title'] = EES['Job Grade Title'].replace(\"engineer / Specialist\", \"Engineer / Specialist\")\n"
      ],
      "metadata": {
        "id": "VYl0C1_satha"
      },
      "execution_count": 297,
      "outputs": []
    },
    {
      "cell_type": "code",
      "source": [
        "# Job Grade Title\n",
        "job_grade_counts = EES['Job Grade Title'].value_counts()\n",
        "job_grade_percentages = EES['Job Grade Title'].value_counts(normalize=True) * 100\n",
        "print(\"Job Grade Title Percentages:\\n\", job_grade_percentages)"
      ],
      "metadata": {
        "colab": {
          "base_uri": "https://localhost:8080/"
        },
        "id": "I1hSPmDAel78",
        "outputId": "ff776a04-19c8-42d0-f8dd-bb91efe1f344"
      },
      "execution_count": 298,
      "outputs": [
        {
          "output_type": "stream",
          "name": "stdout",
          "text": [
            "Job Grade Title Percentages:\n",
            " Job Grade Title\n",
            "Engineer / Specialist                             36.864407\n",
            "Staff                                             32.627119\n",
            "Section Head                                      14.830508\n",
            "Department Head                                    9.463277\n",
            "Division Head                                      3.107345\n",
            "Advisor / Principal Engineer / Department Head     2.259887\n",
            "Senior Advisor / Division Head                     0.847458\n",
            "Name: proportion, dtype: float64\n"
          ]
        }
      ]
    },
    {
      "cell_type": "code",
      "source": [
        "import pandas as pd"
      ],
      "metadata": {
        "id": "N4om4Q3Zg7Tm"
      },
      "execution_count": 304,
      "outputs": []
    },
    {
      "cell_type": "code",
      "source": [
        "# Memisahkan data berdasarkan gender\n",
        "female_data = EES[EES['Gender'] == \"Female\"]\n",
        "male_data = EES[EES['Gender'] == \"Male\"]"
      ],
      "metadata": {
        "id": "18MOj06RfPb6"
      },
      "execution_count": 305,
      "outputs": []
    },
    {
      "cell_type": "code",
      "source": [
        "# Fungsi untuk menghitung rata-rata untuk setiap kategori\n",
        "def calculate_avg(data, columns):\n",
        "    return data[columns].mean(axis=1, skipna=True)"
      ],
      "metadata": {
        "id": "jJh1KmoggaIg"
      },
      "execution_count": 306,
      "outputs": []
    },
    {
      "cell_type": "code",
      "source": [
        "# Menghitung rata-rata untuk tiap kategori untuk gender Female\n",
        "female_data.loc[:, 'leadership_avg'] = calculate_avg(female_data, EES.columns[23:38])\n",
        "female_data.loc[:, 'daytoday_avg'] = calculate_avg(female_data, EES.columns[39:53])\n",
        "female_data.loc[:, 'teamwork_avg'] = calculate_avg(female_data, EES.columns[54:68])\n",
        "female_data.loc[:, 'organization_avg'] = calculate_avg(female_data, EES.columns[69:83])\n",
        "female_data.loc[:, 'performance_avg'] = calculate_avg(female_data, EES.columns[84:89])\n",
        "female_data.loc[:, 'retention_avg'] = calculate_avg(female_data, EES.columns[90:95])"
      ],
      "metadata": {
        "id": "4INcaeisgc6T"
      },
      "execution_count": 308,
      "outputs": []
    },
    {
      "cell_type": "code",
      "source": [
        "avg_leadership_female = female_data['leadership_avg'].mean()\n",
        "avg_daytoday_female = female_data['daytoday_avg'].mean()\n",
        "avg_teamwork_female = female_data['teamwork_avg'].mean()\n",
        "avg_organization_female = female_data['organization_avg'].mean()\n",
        "avg_performance_female = female_data['performance_avg'].mean()\n",
        "avg_retention_female = female_data['retention_avg'].mean()"
      ],
      "metadata": {
        "id": "EQfdKxADgyiK"
      },
      "execution_count": 309,
      "outputs": []
    },
    {
      "cell_type": "code",
      "source": [
        "print(\"Average Leadership for Female:\", avg_leadership_female)\n",
        "print(\"Average Day-to-Day for Female:\", avg_daytoday_female)\n",
        "print(\"Average Teamwork for Female:\", avg_teamwork_female)\n",
        "print(\"Average Organization for Female:\", avg_organization_female)\n",
        "print(\"Average Performance for Female:\", avg_performance_female)\n",
        "print(\"Average Retention for Female:\", avg_retention_female)"
      ],
      "metadata": {
        "colab": {
          "base_uri": "https://localhost:8080/"
        },
        "id": "lDWh5iWzhbpF",
        "outputId": "bc180312-0f5b-42b8-947b-5f8491b9a291"
      },
      "execution_count": 310,
      "outputs": [
        {
          "output_type": "stream",
          "name": "stdout",
          "text": [
            "Average Leadership for Female: 4.039737274220032\n",
            "Average Day-to-Day for Female: 4.136875439831105\n",
            "Average Teamwork for Female: 4.196692470091485\n",
            "Average Organization for Female: 3.95707248416608\n",
            "Average Performance for Female: 3.9862068965517246\n",
            "Average Retention for Female: 3.935960591133005\n"
          ]
        }
      ]
    },
    {
      "cell_type": "code",
      "source": [
        "import pandas as pd"
      ],
      "metadata": {
        "id": "w4sa_X5oi0Ap"
      },
      "execution_count": 312,
      "outputs": []
    },
    {
      "cell_type": "code",
      "source": [
        "# Menghitung rata-rata skor untuk setiap item survei\n",
        "rata_rata_item_survei = EES.iloc[:, 23:95].mean(axis=0, skipna=True)"
      ],
      "metadata": {
        "id": "XtCgVeI6i0tV"
      },
      "execution_count": 313,
      "outputs": []
    },
    {
      "cell_type": "code",
      "source": [
        "# Mengurutkan rata-rata skor dari tertinggi ke terendah\n",
        "urutan_tertinggi = rata_rata_item_survei.sort_values(ascending=False)"
      ],
      "metadata": {
        "id": "U0mO7E0Zi4t0"
      },
      "execution_count": 314,
      "outputs": []
    },
    {
      "cell_type": "code",
      "source": [
        "# Mengambil 10 item survei pertama dengan rata-rata skor tertinggi\n",
        "top_10_survei = urutan_tertinggi.head(10)"
      ],
      "metadata": {
        "id": "1U3jM0UZi6RU"
      },
      "execution_count": 315,
      "outputs": []
    },
    {
      "cell_type": "code",
      "source": [
        "# Menampilkan 10 item survei dengan rata-rata skor tertinggi\n",
        "top_10_survei_dan_skor = pd.DataFrame({\n",
        "    'Item_Survei': top_10_survei.index,\n",
        "    'Rata_Rata_Skor': top_10_survei.values\n",
        "})"
      ],
      "metadata": {
        "id": "sHN5N_X0i8b_"
      },
      "execution_count": 316,
      "outputs": []
    },
    {
      "cell_type": "code",
      "source": [
        "# Menambahkan Focal Point berdasarkan item survei\n",
        "focal_points_top = ['Day to Day', 'Day to Day', 'Teamwork', 'Day to Day', 'Organization',\n",
        "                    'Organization', 'Teamwork', 'Organization', 'Teamwork', 'Teamwork']\n",
        "top_10_survei_dan_skor['Focal_Point'] = focal_points_top"
      ],
      "metadata": {
        "id": "r44c2ujCi_mR"
      },
      "execution_count": 317,
      "outputs": []
    },
    {
      "cell_type": "code",
      "source": [
        "print(\"Top 10 Survey Items with Highest Average Scores:\")\n",
        "print(top_10_survei_dan_skor)"
      ],
      "metadata": {
        "colab": {
          "base_uri": "https://localhost:8080/"
        },
        "id": "ZVfCDktIjBec",
        "outputId": "0e8f152a-4021-492e-ca35-f57d14348e98"
      },
      "execution_count": 318,
      "outputs": [
        {
          "output_type": "stream",
          "name": "stdout",
          "text": [
            "Top 10 Survey Items with Highest Average Scores:\n",
            "  Item_Survei  Rata_Rata_Skor   Focal_Point\n",
            "0          27        4.440678    Day to Day\n",
            "1          17        4.387006    Day to Day\n",
            "2          37        4.372881      Teamwork\n",
            "3          18        4.354520    Day to Day\n",
            "4          58        4.330508  Organization\n",
            "5          53        4.305085  Organization\n",
            "6          34        4.293785      Teamwork\n",
            "7          57        4.275424  Organization\n",
            "8          45        4.271186      Teamwork\n",
            "9          35        4.269774      Teamwork\n"
          ]
        }
      ]
    },
    {
      "cell_type": "code",
      "source": [
        "# Mengurutkan rata-rata skor dari terendah ke tertinggi\n",
        "urutan_terendah = rata_rata_item_survei.sort_values(ascending=True)"
      ],
      "metadata": {
        "id": "1CxCA9wIjOIR"
      },
      "execution_count": 319,
      "outputs": []
    },
    {
      "cell_type": "code",
      "source": [
        "# Mengambil 10 item survei pertama dengan rata-rata skor terendah\n",
        "bottom_10_survei = urutan_terendah.head(10)"
      ],
      "metadata": {
        "id": "gSIgoGOsjPxU"
      },
      "execution_count": 320,
      "outputs": []
    },
    {
      "cell_type": "code",
      "source": [
        "# Menampilkan 10 item survei dengan rata-rata skor terendah\n",
        "bottom_10_survei_dan_skor = pd.DataFrame({\n",
        "    'Item_Survei': bottom_10_survei.index,\n",
        "    'Rata_Rata_Skor': bottom_10_survei.values\n",
        "})"
      ],
      "metadata": {
        "id": "epXPf9qHjRew"
      },
      "execution_count": 321,
      "outputs": []
    },
    {
      "cell_type": "code",
      "source": [
        "# Menambahkan Focal Point berdasarkan item survei\n",
        "focal_points_bottom = ['Organization', 'Organization', 'Organization', 'Performance', 'Organization',\n",
        "                       'Organization', 'Leadership', 'Organization', 'Day to Day', 'Performance']\n",
        "bottom_10_survei_dan_skor['Focal_Point'] = focal_points_bottom"
      ],
      "metadata": {
        "id": "t0HiZu_7jTc_"
      },
      "execution_count": 322,
      "outputs": []
    },
    {
      "cell_type": "code",
      "source": [
        "print(\"Top 10 Survey Items with Lowest Average Scores:\")\n",
        "print(bottom_10_survei_dan_skor)"
      ],
      "metadata": {
        "colab": {
          "base_uri": "https://localhost:8080/"
        },
        "id": "R2uLMpF9jVqW",
        "outputId": "98809817-ec02-434a-aef2-9f48e5b59434"
      },
      "execution_count": 323,
      "outputs": [
        {
          "output_type": "stream",
          "name": "stdout",
          "text": [
            "Top 10 Survey Items with Lowest Average Scores:\n",
            "  Item_Survei  Rata_Rata_Skor   Focal_Point\n",
            "0          48        3.552260  Organization\n",
            "1          50        3.707627  Organization\n",
            "2          47        3.716102  Organization\n",
            "3          62        3.768362   Performance\n",
            "4          52        3.783898  Organization\n",
            "5          49        3.877119  Organization\n",
            "6           7        3.902542    Leadership\n",
            "7          51        3.947740  Organization\n",
            "8          26        3.951977    Day to Day\n",
            "9          63        3.953390   Performance\n"
          ]
        }
      ]
    },
    {
      "cell_type": "code",
      "source": [
        "import pandas as pd\n",
        "\n",
        "# Filter data untuk Construction Directorate\n",
        "construction_directorate = EES[EES['Directorate'] == \"Construction Directorate\"]\n",
        "\n",
        "# Menghitung rata-rata indeks leadership per karyawan\n",
        "construction_directorate['Average_Leadership'] = construction_directorate.iloc[:, 22:38].mean(axis=1, skipna=True)\n",
        "\n",
        "# Mengurutkan data berdasarkan rata-rata indeks leadership\n",
        "sorted_construction_directorate = construction_directorate.sort_values(by='Average_Leadership')\n",
        "\n",
        "# Menampilkan hasil\n",
        "result_cd = sorted_construction_directorate[['Name', 'Division', 'Average_Leadership']]\n",
        "print(\"Construction Directorate:\")\n",
        "print(result_cd)"
      ],
      "metadata": {
        "colab": {
          "base_uri": "https://localhost:8080/"
        },
        "id": "d9_p4u7Zj13q",
        "outputId": "ea38a4f5-bb0a-411a-d53e-e2632f224307"
      },
      "execution_count": 324,
      "outputs": [
        {
          "output_type": "stream",
          "name": "stdout",
          "text": [
            "Construction Directorate:\n",
            "                            Name  \\\n",
            "534        Adeline Emurini Zebua   \n",
            "650  Dearesti Ozadita Prabandani   \n",
            "52                 Helmi Fathoni   \n",
            "317       Anggoro Nosa Andriansa   \n",
            "662          Wijayanto Adi Surya   \n",
            "..                           ...   \n",
            "565         Lukluk Zuraida Jamal   \n",
            "70     Abdurrahim Majid El Yumin   \n",
            "43     Muhammad Ishaq Arya Suluh   \n",
            "112         Dimas Setiyo Nugroho   \n",
            "681         Alwan Rizaldi Faizal   \n",
            "\n",
            "                                           Division  Average_Leadership  \n",
            "534              Program Management Office Division              3.2500  \n",
            "650                                               0              3.3750  \n",
            "52   Project Management for Construction 2 Division              3.4375  \n",
            "317                            Engineering Division              3.5000  \n",
            "662                                               0              3.5000  \n",
            "..                                              ...                 ...  \n",
            "565  Project Management for Construction 2 Division              5.0000  \n",
            "70   Project Management for Construction 1 Division              5.0000  \n",
            "43   Project Management for Railway System Division              5.0000  \n",
            "112              Program Management Office Division              5.0000  \n",
            "681                            Engineering Division              5.0000  \n",
            "\n",
            "[77 rows x 3 columns]\n"
          ]
        },
        {
          "output_type": "stream",
          "name": "stderr",
          "text": [
            "<ipython-input-324-021d96ddf164>:7: SettingWithCopyWarning: \n",
            "A value is trying to be set on a copy of a slice from a DataFrame.\n",
            "Try using .loc[row_indexer,col_indexer] = value instead\n",
            "\n",
            "See the caveats in the documentation: https://pandas.pydata.org/pandas-docs/stable/user_guide/indexing.html#returning-a-view-versus-a-copy\n",
            "  construction_directorate['Average_Leadership'] = construction_directorate.iloc[:, 22:38].mean(axis=1, skipna=True)\n"
          ]
        }
      ]
    }
  ]
}